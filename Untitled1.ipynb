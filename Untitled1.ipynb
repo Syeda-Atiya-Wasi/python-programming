{
 "cells": [
  {
   "cell_type": "code",
   "execution_count": 2,
   "metadata": {},
   "outputs": [
    {
     "name": "stdout",
     "output_type": "stream",
     "text": [
      "Enter a toppingdf\n",
      "Enter a toppingfgh\n",
      "Enter a toppingggg\n",
      "Enter a toppingvbhhf\n",
      "Enter a toppingsdff\n",
      "Enter a toppingq\n",
      "['df', 'fgh', 'ggg', 'vbhhf', 'sdff', 'q']\n"
     ]
    }
   ],
   "source": [
    "toppings=[]\n",
    "flag=True\n",
    "\n",
    "while flag:\n",
    "    topping=input(\"Enter a topping\")\n",
    "    toppings.append(topping)\n",
    "    if topping=='q':\n",
    "        flag=False\n",
    "        print(toppings)"
   ]
  },
  {
   "cell_type": "code",
   "execution_count": 3,
   "metadata": {},
   "outputs": [],
   "source": [
    "toppings.remove('q')"
   ]
  },
  {
   "cell_type": "code",
   "execution_count": 4,
   "metadata": {},
   "outputs": [
    {
     "data": {
      "text/plain": [
       "['df', 'fgh', 'ggg', 'vbhhf', 'sdff']"
      ]
     },
     "execution_count": 4,
     "metadata": {},
     "output_type": "execute_result"
    }
   ],
   "source": [
    "toppings"
   ]
  },
  {
   "cell_type": "code",
   "execution_count": 3,
   "metadata": {},
   "outputs": [
    {
     "name": "stdout",
     "output_type": "stream",
     "text": [
      "Enter a toppinga\n",
      "Enter a toppingd\n",
      "Enter a toppingg\n",
      "Enter a toppingg\n",
      "Enter a toppingq\n",
      "['a', 'd', 'g', 'g']\n"
     ]
    }
   ],
   "source": [
    "toppings=[]\n",
    "flag=True\n",
    "\n",
    "while flag:\n",
    "    topping=input(\"Enter a topping\")\n",
    "    toppings.append(topping)\n",
    "    if topping=='q':\n",
    "        flag=False\n",
    "        #toppings.remove('q')\n",
    "        del toppings[-1]\n",
    "        print(toppings)"
   ]
  },
  {
   "cell_type": "code",
   "execution_count": 7,
   "metadata": {},
   "outputs": [
    {
     "name": "stdout",
     "output_type": "stream",
     "text": [
      "Enter a toppingf\n",
      "['f', 'f']\n",
      "Enter a toppingg\n",
      "['f', 'f', 'g', 'g']\n",
      "Enter a toppingq\n"
     ]
    }
   ],
   "source": [
    "toppings=[]\n",
    "flag=True\n",
    "\n",
    "while flag:\n",
    "    topping=input(\"Enter a topping\")\n",
    "    toppings.append(topping)\n",
    "    if topping=='q':\n",
    "        flag=False\n",
    "    else:\n",
    "        toppings.append(topping)\n",
    "        print(toppings)"
   ]
  },
  {
   "cell_type": "code",
   "execution_count": null,
   "metadata": {},
   "outputs": [],
   "source": []
  }
 ],
 "metadata": {
  "kernelspec": {
   "display_name": "Python 3",
   "language": "python",
   "name": "python3"
  }
 },
 "nbformat": 4,
 "nbformat_minor": 2
}
