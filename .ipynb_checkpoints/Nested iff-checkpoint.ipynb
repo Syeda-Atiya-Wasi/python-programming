{
 "cells": [
  {
   "cell_type": "code",
   "execution_count": 8,
   "metadata": {},
   "outputs": [
    {
     "ename": "IndentationError",
     "evalue": "unexpected indent (<ipython-input-8-594882969fa5>, line 2)",
     "output_type": "error",
     "traceback": [
      "\u001b[1;36m  File \u001b[1;32m\"<ipython-input-8-594882969fa5>\"\u001b[1;36m, line \u001b[1;32m2\u001b[0m\n\u001b[1;33m    if cnic ==\"yes\":\u001b[0m\n\u001b[1;37m    ^\u001b[0m\n\u001b[1;31mIndentationError\u001b[0m\u001b[1;31m:\u001b[0m unexpected indent\n"
     ]
    }
   ],
   "source": [
    "cnic = input(\"do you have cinic?\")\n",
    "    if cnic ==\"yes\":\n",
    "        print(\"kindly move away\")\n",
    "        nameinlist=input(\"is my name in list?\")\n",
    "        if nameinlist==\"yes\":\n",
    "            print(\"please cast your vote\")\n",
    "        else:\n",
    "            print(\"you can not cast your vote\")\n",
    "        else:\n",
    "        print(\"you can not cast your vote\")"
   ]
  },
  {
   "cell_type": "code",
   "execution_count": 11,
   "metadata": {},
   "outputs": [
    {
     "ename": "IndentationError",
     "evalue": "unindent does not match any outer indentation level (<tokenize>, line 9)",
     "output_type": "error",
     "traceback": [
      "\u001b[1;36m  File \u001b[1;32m\"<tokenize>\"\u001b[1;36m, line \u001b[1;32m9\u001b[0m\n\u001b[1;33m    else:\u001b[0m\n\u001b[1;37m    ^\u001b[0m\n\u001b[1;31mIndentationError\u001b[0m\u001b[1;31m:\u001b[0m unindent does not match any outer indentation level\n"
     ]
    }
   ],
   "source": [
    "cnic = input(\"do you have cinic?\")\n",
    "    if cnic ==\"yes\":\n",
    "        print(\"kindly move away\")\n",
    "        nameinlist=input(\"is my name in list?\")\n",
    "        if nameinlist==\"yes\":\n",
    "            print(\"please cast your vote\")\n",
    "        else:\n",
    "            print(\"you can not cast your vote\")\n",
    "     else:\n",
    "     print(\"you can not cast your vote\")"
   ]
  },
  {
   "cell_type": "code",
   "execution_count": 15,
   "metadata": {},
   "outputs": [
    {
     "name": "stdout",
     "output_type": "stream",
     "text": [
      "do you have cnic?yes\n",
      "kindly move away\n",
      "is my name in list?yes\n",
      "please cast your vote\n",
      "you can not cast your vote\n"
     ]
    }
   ],
   "source": [
    "cnic=input(\"do you have cnic?\")\n",
    "if cnic==\"yes\":\n",
    "    print(\"kindly move away\")\n",
    "    nameinlist=input(\"is my name in list?\")\n",
    "    if nameinlist==\"yes\":\n",
    "        print(\"please cast your vote\")\n",
    "    else:\n",
    "        print(\"you can not cast your vote\")\n",
    "        \n",
    "print(\"you can not cast your vote\")"
   ]
  },
  {
   "cell_type": "code",
   "execution_count": 28,
   "metadata": {},
   "outputs": [
    {
     "name": "stdout",
     "output_type": "stream",
     "text": [
      "do you have cnic?yes\n",
      "kindly move away\n",
      "is my name in list?no\n",
      "you can not\n"
     ]
    }
   ],
   "source": [
    "cnic=input(\"do you have cnic?\")\n",
    "if cnic==\"yes\":\n",
    "    print(\"kindly move away\")\n",
    "    nameinlist=input(\"is my name in list?\")\n",
    "    \n",
    "    if(cnic==\"yes\") and (nameinlist==\"yes\"):\n",
    "        print(\"cast your vote\")\n",
    "    else:\n",
    "        '''hhhhjjjjkkkkkkkkkkkkklkkkkkkkkkkkkkkkkkkkkkkkk'''\n",
    "        print(\"you can not\")"
   ]
  },
  {
   "cell_type": "code",
   "execution_count": 20,
   "metadata": {},
   "outputs": [],
   "source": [
    "# hjhghgghhh\n",
    "# ggghhh\n",
    "# jjjjjhgg -----------ctrl+/ to comment more than one line"
   ]
  },
  {
   "cell_type": "code",
   "execution_count": 31,
   "metadata": {},
   "outputs": [
    {
     "data": {
      "text/plain": [
       "['asad', 'nasir', 'aisha', 'fatima']"
      ]
     },
     "execution_count": 31,
     "metadata": {},
     "output_type": "execute_result"
    }
   ],
   "source": [
    "students=[\"asad\",\"nasir\",\"aisha\",\"fatima\"]\n",
    "#index     0        1      2        3\n",
    "students"
   ]
  },
  {
   "cell_type": "code",
   "execution_count": 33,
   "metadata": {},
   "outputs": [
    {
     "data": {
      "text/plain": [
       "'nasir'"
      ]
     },
     "execution_count": 33,
     "metadata": {},
     "output_type": "execute_result"
    }
   ],
   "source": [
    "students[1]"
   ]
  },
  {
   "cell_type": "code",
   "execution_count": 36,
   "metadata": {},
   "outputs": [
    {
     "data": {
      "text/plain": [
       "'fatima'"
      ]
     },
     "execution_count": 36,
     "metadata": {},
     "output_type": "execute_result"
    }
   ],
   "source": [
    "students[3]"
   ]
  },
  {
   "cell_type": "code",
   "execution_count": 37,
   "metadata": {},
   "outputs": [
    {
     "data": {
      "text/plain": [
       "['asad', 'nasir', 'aisha', 'fatima', 'ahmed']"
      ]
     },
     "execution_count": 37,
     "metadata": {},
     "output_type": "execute_result"
    }
   ],
   "source": [
    "students.append(\"ahmed\")\n",
    "students"
   ]
  },
  {
   "cell_type": "code",
   "execution_count": 38,
   "metadata": {},
   "outputs": [
    {
     "data": {
      "text/plain": [
       "['asad', 'nasir', 'aisha', 'sakeena', 'fatima', 'ahmed']"
      ]
     },
     "execution_count": 38,
     "metadata": {},
     "output_type": "execute_result"
    }
   ],
   "source": [
    "students.insert(3,\"sakeena\")\n",
    "students"
   ]
  },
  {
   "cell_type": "code",
   "execution_count": 39,
   "metadata": {},
   "outputs": [
    {
     "data": {
      "text/plain": [
       "['asad', 'nasir', 'aisha', 'fatima', 'ahmed']"
      ]
     },
     "execution_count": 39,
     "metadata": {},
     "output_type": "execute_result"
    }
   ],
   "source": [
    "del students[3]\n",
    "students"
   ]
  },
  {
   "cell_type": "code",
   "execution_count": 40,
   "metadata": {},
   "outputs": [
    {
     "data": {
      "text/plain": [
       "['asad', 'nasir', 'komal', 'fatima', 'ahmed']"
      ]
     },
     "execution_count": 40,
     "metadata": {},
     "output_type": "execute_result"
    }
   ],
   "source": [
    "students[2]=\"komal\"\n",
    "students"
   ]
  },
  {
   "cell_type": "code",
   "execution_count": null,
   "metadata": {},
   "outputs": [],
   "source": []
  }
 ],
 "metadata": {
  "kernelspec": {
   "display_name": "Python 3",
   "language": "python",
   "name": "python3"
  },
  "language_info": {
   "codemirror_mode": {
    "name": "ipython",
    "version": 3
   },
   "file_extension": ".py",
   "mimetype": "text/x-python",
   "name": "python",
   "nbconvert_exporter": "python",
   "pygments_lexer": "ipython3",
   "version": "3.7.3"
  }
 },
 "nbformat": 4,
 "nbformat_minor": 2
}
