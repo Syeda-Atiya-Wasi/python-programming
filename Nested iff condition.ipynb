{
 "cells": [
  {
   "cell_type": "code",
   "execution_count": 8,
   "metadata": {},
   "outputs": [
    {
     "ename": "IndentationError",
     "evalue": "unexpected indent (<ipython-input-8-594882969fa5>, line 2)",
     "output_type": "error",
     "traceback": [
      "\u001b[1;36m  File \u001b[1;32m\"<ipython-input-8-594882969fa5>\"\u001b[1;36m, line \u001b[1;32m2\u001b[0m\n\u001b[1;33m    if cnic ==\"yes\":\u001b[0m\n\u001b[1;37m    ^\u001b[0m\n\u001b[1;31mIndentationError\u001b[0m\u001b[1;31m:\u001b[0m unexpected indent\n"
     ]
    }
   ],
   "source": [
    "cnic = input(\"do you have cinic?\")\n",
    "    if cnic ==\"yes\":\n",
    "        print(\"kindly move away\")\n",
    "        nameinlist=input(\"is my name in list?\")\n",
    "        if nameinlist==\"yes\":\n",
    "            print(\"please cast your vote\")\n",
    "        else:\n",
    "            print(\"you can not cast your vote\")\n",
    "        else:\n",
    "        print(\"you can not cast your vote\")"
   ]
  },
  {
   "cell_type": "code",
   "execution_count": 11,
   "metadata": {},
   "outputs": [
    {
     "ename": "IndentationError",
     "evalue": "unindent does not match any outer indentation level (<tokenize>, line 9)",
     "output_type": "error",
     "traceback": [
      "\u001b[1;36m  File \u001b[1;32m\"<tokenize>\"\u001b[1;36m, line \u001b[1;32m9\u001b[0m\n\u001b[1;33m    else:\u001b[0m\n\u001b[1;37m    ^\u001b[0m\n\u001b[1;31mIndentationError\u001b[0m\u001b[1;31m:\u001b[0m unindent does not match any outer indentation level\n"
     ]
    }
   ],
   "source": [
    "cnic = input(\"do you have cinic?\")\n",
    "    if cnic ==\"yes\":\n",
    "        print(\"kindly move away\")\n",
    "        nameinlist=input(\"is my name in list?\")\n",
    "        if nameinlist==\"yes\":\n",
    "            print(\"please cast your vote\")\n",
    "        else:\n",
    "            print(\"you can not cast your vote\")\n",
    "     else:\n",
    "     print(\"you can not cast your vote\")"
   ]
  },
  {
   "cell_type": "code",
   "execution_count": 14,
   "metadata": {},
   "outputs": [
    {
     "ename": "SyntaxError",
     "evalue": "invalid syntax (<ipython-input-14-9dab16238216>, line 7)",
     "output_type": "error",
     "traceback": [
      "\u001b[1;36m  File \u001b[1;32m\"<ipython-input-14-9dab16238216>\"\u001b[1;36m, line \u001b[1;32m7\u001b[0m\n\u001b[1;33m    else:\u001b[0m\n\u001b[1;37m       ^\u001b[0m\n\u001b[1;31mSyntaxError\u001b[0m\u001b[1;31m:\u001b[0m invalid syntax\n"
     ]
    }
   ],
   "source": [
    "cnic=input(\"do you have cnic?\")\n",
    "if cnic==\"yes\":\n",
    "    print(\"kindly move away\")\n",
    "    nameinlist=input(\"is my name in list?\")\n",
    "    if nameinlist==\"yes\":\n",
    "        print(\"please cast your vote\")\n",
    "        else:\n",
    "            print(\"you can not cast your vote\")\n",
    "print(\"you can not cast your vote\")"
   ]
  },
  {
   "cell_type": "code",
   "execution_count": null,
   "metadata": {},
   "outputs": [],
   "source": []
  }
 ],
 "metadata": {
  "kernelspec": {
   "display_name": "Python 3",
   "language": "python",
   "name": "python3"
  },
  "language_info": {
   "codemirror_mode": {
    "name": "ipython",
    "version": 3
   },
   "file_extension": ".py",
   "mimetype": "text/x-python",
   "name": "python",
   "nbconvert_exporter": "python",
   "pygments_lexer": "ipython3",
   "version": "3.7.3"
  }
 },
 "nbformat": 4,
 "nbformat_minor": 2
}
