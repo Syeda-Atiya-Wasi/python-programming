{
 "cells": [
  {
   "cell_type": "code",
   "execution_count": 3,
   "metadata": {
    "scrolled": false
   },
   "outputs": [
    {
     "name": "stdout",
     "output_type": "stream",
     "text": [
      "Enter a toppingabc\n",
      "Enter a toppingf\n",
      "Enter a toppingg\n",
      "Enter a toppingh\n",
      "Enter a toppinge\n",
      "['abc', 'f', 'g', 'h', 'e']\n"
     ]
    }
   ],
   "source": [
    "topping=[]\n",
    "for a in range(5):\n",
    "    toppings=input(\"Enter a topping\")\n",
    "    topping.append(toppings)\n",
    "print(topping)"
   ]
  },
  {
   "cell_type": "code",
   "execution_count": 2,
   "metadata": {},
   "outputs": [
    {
     "name": "stdout",
     "output_type": "stream",
     "text": [
      "['abc', 'abc', 'abc', 'abc', 'abc']\n"
     ]
    }
   ],
   "source": [
    "print(topping)"
   ]
  },
  {
   "cell_type": "code",
   "execution_count": 19,
   "metadata": {},
   "outputs": [
    {
     "name": "stdout",
     "output_type": "stream",
     "text": [
      "Enter a toppingghh\n",
      "Enter a toppingfgf\n",
      "Enter a toppingfgfh\n",
      "Enter a toppingfgfh\n",
      "Enter a toppingq\n",
      "['ghh', 'fgf', 'fgfh', 'fgfh', 'q']\n"
     ]
    }
   ],
   "source": [
    "toppings=[]\n",
    "flag=True\n",
    "\n",
    "while flag:\n",
    "    topping=input(\"Enter a topping\")\n",
    "    toppings.append(topping)\n",
    "    if topping=='q':\n",
    "        flag=False\n",
    "        print(toppings)"
   ]
  },
  {
   "cell_type": "code",
   "execution_count": 20,
   "metadata": {},
   "outputs": [
    {
     "name": "stdout",
     "output_type": "stream",
     "text": [
      "Enter a toppingd\n",
      "Enter a toppingg\n",
      "Enter a toppingh\n",
      "Enter a topping\n",
      "Enter a toppingj\n",
      "Enter a toppingq\n",
      "['d', 'g', 'h', '', 'j']\n"
     ]
    }
   ],
   "source": [
    "toppings=[]#to remove q at last\n",
    "flag=True\n",
    "\n",
    "while flag:\n",
    "    topping=input(\"Enter a topping\")\n",
    "    toppings.append(topping)\n",
    "    if topping=='q':\n",
    "        flag=False\n",
    "        #toppings.remove('q')\n",
    "        del toppings[-1]\n",
    "        print(toppings)"
   ]
  },
  {
   "cell_type": "code",
   "execution_count": null,
   "metadata": {},
   "outputs": [],
   "source": []
  }
 ],
 "metadata": {
  "kernelspec": {
   "display_name": "Python 3",
   "language": "python",
   "name": "python3"
  },
  "language_info": {
   "codemirror_mode": {
    "name": "ipython",
    "version": 3
   },
   "file_extension": ".py",
   "mimetype": "text/x-python",
   "name": "python",
   "nbconvert_exporter": "python",
   "pygments_lexer": "ipython3",
   "version": "3.7.3"
  }
 },
 "nbformat": 4,
 "nbformat_minor": 2
}
